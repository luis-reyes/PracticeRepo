{
 "cells": [
  {
   "cell_type": "code",
   "execution_count": 5,
   "metadata": {},
   "outputs": [],
   "source": [
    "import pandas as pd\n",
    "from __future__ import print_function\n",
    "import random\n",
    "import numpy as np #importamos para poder utilizar random.choice"
   ]
  },
  {
   "cell_type": "code",
   "execution_count": 2,
   "metadata": {},
   "outputs": [],
   "source": [
    "humandata = pd.read_csv('juego_azar.csv',delimiter=';')"
   ]
  },
  {
   "cell_type": "code",
   "execution_count": 3,
   "metadata": {},
   "outputs": [
    {
     "data": {
      "text/html": [
       "<div>\n",
       "<style scoped>\n",
       "    .dataframe tbody tr th:only-of-type {\n",
       "        vertical-align: middle;\n",
       "    }\n",
       "\n",
       "    .dataframe tbody tr th {\n",
       "        vertical-align: top;\n",
       "    }\n",
       "\n",
       "    .dataframe thead th {\n",
       "        text-align: right;\n",
       "    }\n",
       "</style>\n",
       "<table border=\"1\" class=\"dataframe\">\n",
       "  <thead>\n",
       "    <tr style=\"text-align: right;\">\n",
       "      <th></th>\n",
       "      <th>DRAW_ID</th>\n",
       "      <th>N1</th>\n",
       "      <th>N2</th>\n",
       "      <th>N3</th>\n",
       "      <th>N4</th>\n",
       "      <th>N5</th>\n",
       "    </tr>\n",
       "  </thead>\n",
       "  <tbody>\n",
       "    <tr>\n",
       "      <th>0</th>\n",
       "      <td>1</td>\n",
       "      <td>2</td>\n",
       "      <td>14</td>\n",
       "      <td>21</td>\n",
       "      <td>36</td>\n",
       "      <td>46</td>\n",
       "    </tr>\n",
       "    <tr>\n",
       "      <th>1</th>\n",
       "      <td>2</td>\n",
       "      <td>13</td>\n",
       "      <td>25</td>\n",
       "      <td>32</td>\n",
       "      <td>38</td>\n",
       "      <td>46</td>\n",
       "    </tr>\n",
       "    <tr>\n",
       "      <th>2</th>\n",
       "      <td>3</td>\n",
       "      <td>1</td>\n",
       "      <td>6</td>\n",
       "      <td>13</td>\n",
       "      <td>17</td>\n",
       "      <td>26</td>\n",
       "    </tr>\n",
       "    <tr>\n",
       "      <th>3</th>\n",
       "      <td>4</td>\n",
       "      <td>10</td>\n",
       "      <td>13</td>\n",
       "      <td>20</td>\n",
       "      <td>33</td>\n",
       "      <td>41</td>\n",
       "    </tr>\n",
       "    <tr>\n",
       "      <th>4</th>\n",
       "      <td>5</td>\n",
       "      <td>10</td>\n",
       "      <td>15</td>\n",
       "      <td>17</td>\n",
       "      <td>40</td>\n",
       "      <td>45</td>\n",
       "    </tr>\n",
       "  </tbody>\n",
       "</table>\n",
       "</div>"
      ],
      "text/plain": [
       "   DRAW_ID  N1  N2  N3  N4  N5\n",
       "0        1   2  14  21  36  46\n",
       "1        2  13  25  32  38  46\n",
       "2        3   1   6  13  17  26\n",
       "3        4  10  13  20  33  41\n",
       "4        5  10  15  17  40  45"
      ]
     },
     "execution_count": 3,
     "metadata": {},
     "output_type": "execute_result"
    }
   ],
   "source": [
    "humandatalength,humancolumnslength = humandata.shape\n",
    "humandata.head()"
   ]
  },
  {
   "cell_type": "code",
   "execution_count": 7,
   "metadata": {},
   "outputs": [],
   "source": [
    "randomdata = []\n",
    "for i in range(humandatalength):\n",
    "    randomdata.append(np.random.choice(50, 5, replace=False)+1)\n",
    "randomdata = np.array(randomdata)\n",
    "randomdata = pd.DataFrame(randomdata,\n",
    "                         index = [i+ humandatalength for i in range(humandatalength)],\n",
    "                         columns = ['N1','N2','N3','N4','N5'])"
   ]
  },
  {
   "cell_type": "code",
   "execution_count": 13,
   "metadata": {},
   "outputs": [
    {
     "name": "stdout",
     "output_type": "stream",
     "text": [
      "     N1  N2  N3  N4  N5\n",
      "300  16  49  23  32   6\n",
      "301  17  27  20  42  16\n",
      "302  47   6  35  21  30\n",
      "303  19  29  32   9  30\n",
      "304  13  18  47   9  41\n"
     ]
    }
   ],
   "source": [
    "#mostramos las combinaciones random\n",
    "print(randomdata.head())"
   ]
  },
  {
   "cell_type": "code",
   "execution_count": 14,
   "metadata": {},
   "outputs": [
    {
     "name": "stdout",
     "output_type": "stream",
     "text": [
      "   DRAW_ID  N1  N2  N3  N4  N5\n",
      "0        1   2  14  21  36  46\n",
      "1        2  13  25  32  38  46\n",
      "2        3   1   6  13  17  26\n",
      "3        4  10  13  20  33  41\n",
      "4        5  10  15  17  40  45\n"
     ]
    }
   ],
   "source": [
    "#mostramos las combinaciones humanas\n",
    "print(humandata.head())"
   ]
  },
  {
   "cell_type": "code",
   "execution_count": 11,
   "metadata": {},
   "outputs": [
    {
     "name": "stdout",
     "output_type": "stream",
     "text": [
      "N1  N2  N3  N4  N5\n",
      "1   2   6   20  36    1\n",
      "        11  27  29    1\n",
      "        18  31  36    1\n",
      "    3   16  24  37    1\n",
      "    4   7   10  50    1\n",
      "                     ..\n",
      "28  30  42  45  49    1\n",
      "29  33  39  41  44    1\n",
      "31  32  38  40  42    1\n",
      "    33  34  37  40    1\n",
      "            39  45    1\n",
      "Length: 300, dtype: int64\n"
     ]
    }
   ],
   "source": [
    "humangroup= humandata.groupby(['N1','N2','N3','N4','N5'])\n",
    "groupsize = humangroup.size();\n",
    "groupsize.sort_values(ascending=False)\n",
    "print(groupsize)"
   ]
  },
  {
   "cell_type": "code",
   "execution_count": 16,
   "metadata": {},
   "outputs": [],
   "source": [
    "humandata['ishuman']=1\n",
    "randomdata['ishuman']=0"
   ]
  },
  {
   "cell_type": "code",
   "execution_count": 19,
   "metadata": {},
   "outputs": [
    {
     "data": {
      "text/plain": [
       "(array([ 6.,  9., 17., 10.,  8.]),\n",
       " array([19. , 23.2, 27.4, 31.6, 35.8, 40. ]),\n",
       " <a list of 5 Patch objects>)"
      ]
     },
     "execution_count": 19,
     "metadata": {},
     "output_type": "execute_result"
    },
    {
     "data": {
      "image/png": "[encoded data removed]",
      "text/plain": [
       "<Figure size 432x288 with 1 Axes>"
      ]
     },
     "metadata": {
      "needs_background": "light"
     },
     "output_type": "display_data"
    }
   ],
   "source": [
    "import matplotlib.pyplot as plt\n",
    "freq = []\n",
    "\n",
    "for val in range(50):\n",
    "    count = ((humandata['N1']==val +1).sum()+\n",
    "            (humandata['N2']==val +1).sum()+\n",
    "            (humandata['N3']==val +1).sum()+\n",
    "            (humandata['N4']==val +1).sum()+\n",
    "            (humandata['N5']==val +1).sum())\n",
    "    freq.append(count)\n",
    "\n",
    "plt.hist(freq, bins=5)"
   ]
  },
  {
   "cell_type": "code",
   "execution_count": 50,
   "metadata": {},
   "outputs": [],
   "source": [
    "frames =[humandata[['N1','N2','N3','N4','N5','ishuman']],randomdata[['N1','N2','N3','N4','N5','ishuman']]]\n",
    "full_frame = pd.concat(frames)\n",
    "\n",
    "X= full_frame[['N1','N2','N3','N4','N5','ishuman']]\n",
    "#variable que almacena si es humano o aleatorio\n",
    "y= full_frame[['ishuman']]"
   ]
  },
  {
   "cell_type": "code",
   "execution_count": 51,
   "metadata": {},
   "outputs": [],
   "source": [
    "from sklearn.ensemble import RandomForestClassifier\n",
    "from sklearn.model_selection import train_test_split"
   ]
  },
  {
   "cell_type": "code",
   "execution_count": 52,
   "metadata": {},
   "outputs": [],
   "source": [
    "#se crean los set de entrenamiento y prueba, 30% de prueba\n",
    "X_train, X_test, y_train, y_test = train_test_split(X,y, test_size=0.3)"
   ]
  },
  {
   "cell_type": "code",
   "execution_count": 53,
   "metadata": {},
   "outputs": [
    {
     "data": {
      "text/plain": [
       "RandomForestClassifier()"
      ]
     },
     "execution_count": 53,
     "metadata": {},
     "output_type": "execute_result"
    }
   ],
   "source": [
    "model = RandomForestClassifier(n_estimators= 100)\n",
    "model.fit(X_train[['N1','N2','N3','N4','N5']], y_train.values.ravel())"
   ]
  },
  {
   "cell_type": "code",
   "execution_count": 64,
   "metadata": {},
   "outputs": [
    {
     "data": {
      "text/html": [
       "<div>\n",
       "<style scoped>\n",
       "    .dataframe tbody tr th:only-of-type {\n",
       "        vertical-align: middle;\n",
       "    }\n",
       "\n",
       "    .dataframe tbody tr th {\n",
       "        vertical-align: top;\n",
       "    }\n",
       "\n",
       "    .dataframe thead th {\n",
       "        text-align: right;\n",
       "    }\n",
       "</style>\n",
       "<table border=\"1\" class=\"dataframe\">\n",
       "  <thead>\n",
       "    <tr style=\"text-align: right;\">\n",
       "      <th></th>\n",
       "      <th>0</th>\n",
       "    </tr>\n",
       "  </thead>\n",
       "  <tbody>\n",
       "    <tr>\n",
       "      <th>0</th>\n",
       "      <td>1</td>\n",
       "    </tr>\n",
       "    <tr>\n",
       "      <th>1</th>\n",
       "      <td>1</td>\n",
       "    </tr>\n",
       "    <tr>\n",
       "      <th>2</th>\n",
       "      <td>1</td>\n",
       "    </tr>\n",
       "    <tr>\n",
       "      <th>3</th>\n",
       "      <td>1</td>\n",
       "    </tr>\n",
       "    <tr>\n",
       "      <th>4</th>\n",
       "      <td>0</td>\n",
       "    </tr>\n",
       "  </tbody>\n",
       "</table>\n",
       "</div>"
      ],
      "text/plain": [
       "   0\n",
       "0  1\n",
       "1  1\n",
       "2  1\n",
       "3  1\n",
       "4  0"
      ]
     },
     "execution_count": 64,
     "metadata": {},
     "output_type": "execute_result"
    }
   ],
   "source": [
    "y_pred= model.predict(X_test[['N1','N2','N3','N4','N5']])\n",
    "y_preddf = pd.DataFrame(y_pred)\n",
    "\n",
    "y_preddf.head()"
   ]
  },
  {
   "cell_type": "code",
   "execution_count": 65,
   "metadata": {},
   "outputs": [
    {
     "name": "stdout",
     "output_type": "stream",
     "text": [
      "Score: 0.944437584887023\n"
     ]
    }
   ],
   "source": [
    "from sklearn import metrics\n",
    "print(\"Score:\",metrics.f1_score(y_test, y_pred, average='macro'))"
   ]
  },
  {
   "cell_type": "code",
   "execution_count": null,
   "metadata": {},
   "outputs": [],
   "source": []
  }
 ],
 "metadata": {
  "kernelspec": {
   "display_name": "Python 3",
   "language": "python",
   "name": "python3"
  },
  "language_info": {
   "codemirror_mode": {
    "name": "ipython",
    "version": 3
   },
   "file_extension": ".py",
   "mimetype": "text/x-python",
   "name": "python",
   "nbconvert_exporter": "python",
   "pygments_lexer": "ipython3",
   "version": "3.8.2"
  }
 },
 "nbformat": 4,
 "nbformat_minor": 4
}
